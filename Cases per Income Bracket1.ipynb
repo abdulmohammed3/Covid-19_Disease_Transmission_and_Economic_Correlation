{
 "cells": [
  {
   "cell_type": "code",
   "execution_count": 1,
   "metadata": {},
   "outputs": [],
   "source": [
    "import pandas as pd\n",
    "import numpy as np\n",
    "import seaborn as sns\n",
    "import matplotlib.pyplot as plt\n",
    "import scipy.stats"
   ]
  },
  {
   "cell_type": "code",
   "execution_count": 2,
   "metadata": {
    "colab": {
     "base_uri": "https://localhost:8080/",
     "height": 72,
     "resources": {
      "http://localhost:8080/nbextensions/google.colab/files.js": {
       "data": "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",
       "headers": [
        [
         "content-type",
         "application/javascript"
        ]
       ],
       "ok": true,
       "status": 200,
       "status_text": ""
      }
     }
    },
    "id": "wXg0isOYkfod",
    "outputId": "7b9652d1-6d66-4788-923b-889ca7dbaf99"
   },
   "outputs": [],
   "source": [
    "df3= pd.read_csv('income_cases_2.csv')"
   ]
  },
  {
   "cell_type": "markdown",
   "metadata": {
    "id": "8u6vRFP33HDQ"
   },
   "source": [
    "### The following code displays the merged dataset datatypes."
   ]
  },
  {
   "cell_type": "code",
   "execution_count": 3,
   "metadata": {
    "colab": {
     "base_uri": "https://localhost:8080/"
    },
    "id": "YGnjkZVUkfog",
    "outputId": "903bbbe6-713c-4db1-d258-dd1f1075a467"
   },
   "outputs": [
    {
     "data": {
      "text/plain": [
       "Unnamed: 0                          int64\n",
       "OBJECTID                            int64\n",
       "GEOID10                             int64\n",
       "County                              int64\n",
       "Area_Name                          object\n",
       "Total_Population                    int64\n",
       "Total_Population_MOE_2016           int64\n",
       "Total_households                    int64\n",
       "Total_households_MOE                int64\n",
       "HH_income_less_35k                  int64\n",
       "HH_income_less_35k_MOE              int64\n",
       "Pct_HH_income_less_35k            float64\n",
       "Pct_HH_income_less_35k_MOE        float64\n",
       "HH_income_35k_75k                   int64\n",
       "HH_income_35k_75k_MOE               int64\n",
       "Pct_HH_income_35k_75k             float64\n",
       "Pct_HH_income_35k_75k_MOE         float64\n",
       "HH_income_75k_200k                  int64\n",
       "HH_income_75k_200k_MOE              int64\n",
       "Pct_HH_income_75k_200k            float64\n",
       "Pct_HH_income_75k_200k_MOE        float64\n",
       "HH_income_200k_more                 int64\n",
       "HH_income_200k_more_MOE             int64\n",
       "Pct_HH_income_200k_more           float64\n",
       "Pct_HH_income_200k_more_MOE       float64\n",
       "Median_HH_income                  float64\n",
       "Median_HH_income_MOE              float64\n",
       "Median_HH_Income_2000             float64\n",
       "Chg_Median_HH_Income_2000_16      float64\n",
       "Average_Per_capita_Income           int64\n",
       "Average_Per_capita_Income_MOE       int64\n",
       "Aggregate_Household_Income        float64\n",
       "Aggregate_Household_Income_MOE    float64\n",
       "Mean_Household_Income             float64\n",
       "Mean_Household_Income_MOE         float64\n",
       "Planning_Region                    object\n",
       "AcresLand                         float64\n",
       "AcresWater                        float64\n",
       "AcresTotal                        float64\n",
       "SqMi_Land                         float64\n",
       "SqMi_Water                        float64\n",
       "SqMi_Total                        float64\n",
       "TRACTCE10                           int64\n",
       "CountyName                         object\n",
       "GlobalID                           object\n",
       "last_edited_date                   object\n",
       "county_name                        object\n",
       "cases                               int64\n",
       "State FIPS code                     int64\n",
       "County FIPS code                    int64\n",
       "population                          int64\n",
       "hospitalization                     int64\n",
       "deaths                              int64\n",
       "case rate                         float64\n",
       "death rate                        float64\n",
       "14 day case rate                  float64\n",
       "14 day cases                        int64\n",
       "dtype: object"
      ]
     },
     "execution_count": 3,
     "metadata": {},
     "output_type": "execute_result"
    }
   ],
   "source": [
    "df3.dtypes"
   ]
  },
  {
   "cell_type": "markdown",
   "metadata": {
    "id": "W3ErjKkXw2eY"
   },
   "source": [
    "### The following code displays statistics from the merged dataset."
   ]
  },
  {
   "cell_type": "code",
   "execution_count": 4,
   "metadata": {
    "colab": {
     "base_uri": "https://localhost:8080/",
     "height": 351
    },
    "id": "cutMSPm-kfok",
    "outputId": "dbdb6788-de64-464f-d5da-03ab50a7ae12"
   },
   "outputs": [
    {
     "data": {
      "text/html": [
       "<div>\n",
       "<style scoped>\n",
       "    .dataframe tbody tr th:only-of-type {\n",
       "        vertical-align: middle;\n",
       "    }\n",
       "\n",
       "    .dataframe tbody tr th {\n",
       "        vertical-align: top;\n",
       "    }\n",
       "\n",
       "    .dataframe thead th {\n",
       "        text-align: right;\n",
       "    }\n",
       "</style>\n",
       "<table border=\"1\" class=\"dataframe\">\n",
       "  <thead>\n",
       "    <tr style=\"text-align: right;\">\n",
       "      <th></th>\n",
       "      <th>Unnamed: 0</th>\n",
       "      <th>OBJECTID</th>\n",
       "      <th>GEOID10</th>\n",
       "      <th>County</th>\n",
       "      <th>Total_Population</th>\n",
       "      <th>Total_Population_MOE_2016</th>\n",
       "      <th>Total_households</th>\n",
       "      <th>Total_households_MOE</th>\n",
       "      <th>HH_income_less_35k</th>\n",
       "      <th>HH_income_less_35k_MOE</th>\n",
       "      <th>...</th>\n",
       "      <th>cases</th>\n",
       "      <th>State FIPS code</th>\n",
       "      <th>County FIPS code</th>\n",
       "      <th>population</th>\n",
       "      <th>hospitalization</th>\n",
       "      <th>deaths</th>\n",
       "      <th>case rate</th>\n",
       "      <th>death rate</th>\n",
       "      <th>14 day case rate</th>\n",
       "      <th>14 day cases</th>\n",
       "    </tr>\n",
       "  </thead>\n",
       "  <tbody>\n",
       "    <tr>\n",
       "      <th>count</th>\n",
       "      <td>944.000000</td>\n",
       "      <td>944.000000</td>\n",
       "      <td>9.440000e+02</td>\n",
       "      <td>944.000000</td>\n",
       "      <td>944.000000</td>\n",
       "      <td>944.000000</td>\n",
       "      <td>944.000000</td>\n",
       "      <td>944.000000</td>\n",
       "      <td>944.000000</td>\n",
       "      <td>944.000000</td>\n",
       "      <td>...</td>\n",
       "      <td>944.000000</td>\n",
       "      <td>944.0</td>\n",
       "      <td>944.000000</td>\n",
       "      <td>9.440000e+02</td>\n",
       "      <td>944.000000</td>\n",
       "      <td>944.000000</td>\n",
       "      <td>944.000000</td>\n",
       "      <td>944.000000</td>\n",
       "      <td>944.000000</td>\n",
       "      <td>944.000000</td>\n",
       "    </tr>\n",
       "    <tr>\n",
       "      <th>mean</th>\n",
       "      <td>473.542373</td>\n",
       "      <td>474.527542</td>\n",
       "      <td>1.311068e+10</td>\n",
       "      <td>13110.601695</td>\n",
       "      <td>5929.840042</td>\n",
       "      <td>538.310381</td>\n",
       "      <td>2099.554025</td>\n",
       "      <td>138.206568</td>\n",
       "      <td>606.118644</td>\n",
       "      <td>172.100636</td>\n",
       "      <td>...</td>\n",
       "      <td>18201.776483</td>\n",
       "      <td>13.0</td>\n",
       "      <td>110.601695</td>\n",
       "      <td>6.457978e+05</td>\n",
       "      <td>1663.019068</td>\n",
       "      <td>340.504237</td>\n",
       "      <td>2766.199089</td>\n",
       "      <td>53.188146</td>\n",
       "      <td>149.616886</td>\n",
       "      <td>942.792373</td>\n",
       "    </tr>\n",
       "    <tr>\n",
       "      <th>std</th>\n",
       "      <td>274.154848</td>\n",
       "      <td>274.155526</td>\n",
       "      <td>5.132188e+07</td>\n",
       "      <td>51.361219</td>\n",
       "      <td>2905.633562</td>\n",
       "      <td>249.760785</td>\n",
       "      <td>969.580036</td>\n",
       "      <td>63.214046</td>\n",
       "      <td>371.646654</td>\n",
       "      <td>82.925790</td>\n",
       "      <td>...</td>\n",
       "      <td>11176.196479</td>\n",
       "      <td>0.0</td>\n",
       "      <td>51.361219</td>\n",
       "      <td>3.819744e+05</td>\n",
       "      <td>1030.532913</td>\n",
       "      <td>210.006681</td>\n",
       "      <td>583.803999</td>\n",
       "      <td>13.146943</td>\n",
       "      <td>37.454588</td>\n",
       "      <td>566.616191</td>\n",
       "    </tr>\n",
       "    <tr>\n",
       "      <th>min</th>\n",
       "      <td>0.000000</td>\n",
       "      <td>1.000000</td>\n",
       "      <td>1.301318e+10</td>\n",
       "      <td>13013.000000</td>\n",
       "      <td>1070.000000</td>\n",
       "      <td>18.000000</td>\n",
       "      <td>0.000000</td>\n",
       "      <td>13.000000</td>\n",
       "      <td>0.000000</td>\n",
       "      <td>32.000000</td>\n",
       "      <td>...</td>\n",
       "      <td>1576.000000</td>\n",
       "      <td>13.0</td>\n",
       "      <td>13.000000</td>\n",
       "      <td>6.911000e+04</td>\n",
       "      <td>128.000000</td>\n",
       "      <td>40.000000</td>\n",
       "      <td>1806.130000</td>\n",
       "      <td>20.990000</td>\n",
       "      <td>92.150000</td>\n",
       "      <td>113.000000</td>\n",
       "    </tr>\n",
       "    <tr>\n",
       "      <th>25%</th>\n",
       "      <td>235.750000</td>\n",
       "      <td>236.750000</td>\n",
       "      <td>1.306703e+10</td>\n",
       "      <td>13067.000000</td>\n",
       "      <td>3965.250000</td>\n",
       "      <td>359.750000</td>\n",
       "      <td>1433.250000</td>\n",
       "      <td>93.000000</td>\n",
       "      <td>327.750000</td>\n",
       "      <td>108.000000</td>\n",
       "      <td>...</td>\n",
       "      <td>6163.000000</td>\n",
       "      <td>13.0</td>\n",
       "      <td>67.000000</td>\n",
       "      <td>2.398660e+05</td>\n",
       "      <td>464.000000</td>\n",
       "      <td>102.000000</td>\n",
       "      <td>2653.840000</td>\n",
       "      <td>45.510000</td>\n",
       "      <td>129.400000</td>\n",
       "      <td>359.000000</td>\n",
       "    </tr>\n",
       "    <tr>\n",
       "      <th>50%</th>\n",
       "      <td>474.500000</td>\n",
       "      <td>475.500000</td>\n",
       "      <td>1.311713e+10</td>\n",
       "      <td>13117.000000</td>\n",
       "      <td>5428.500000</td>\n",
       "      <td>493.500000</td>\n",
       "      <td>1944.500000</td>\n",
       "      <td>128.000000</td>\n",
       "      <td>533.500000</td>\n",
       "      <td>159.000000</td>\n",
       "      <td>...</td>\n",
       "      <td>21049.000000</td>\n",
       "      <td>13.0</td>\n",
       "      <td>117.000000</td>\n",
       "      <td>7.905880e+05</td>\n",
       "      <td>1964.000000</td>\n",
       "      <td>397.000000</td>\n",
       "      <td>2759.210000</td>\n",
       "      <td>56.310000</td>\n",
       "      <td>149.670000</td>\n",
       "      <td>1023.000000</td>\n",
       "    </tr>\n",
       "    <tr>\n",
       "      <th>75%</th>\n",
       "      <td>710.250000</td>\n",
       "      <td>711.250000</td>\n",
       "      <td>1.313505e+10</td>\n",
       "      <td>13135.000000</td>\n",
       "      <td>7351.000000</td>\n",
       "      <td>658.500000</td>\n",
       "      <td>2598.750000</td>\n",
       "      <td>172.000000</td>\n",
       "      <td>799.250000</td>\n",
       "      <td>221.250000</td>\n",
       "      <td>...</td>\n",
       "      <td>30383.000000</td>\n",
       "      <td>13.0</td>\n",
       "      <td>135.000000</td>\n",
       "      <td>9.711450e+05</td>\n",
       "      <td>2594.000000</td>\n",
       "      <td>454.000000</td>\n",
       "      <td>2813.550000</td>\n",
       "      <td>57.430000</td>\n",
       "      <td>153.220000</td>\n",
       "      <td>1488.000000</td>\n",
       "    </tr>\n",
       "    <tr>\n",
       "      <th>max</th>\n",
       "      <td>947.000000</td>\n",
       "      <td>948.000000</td>\n",
       "      <td>1.329711e+10</td>\n",
       "      <td>13297.000000</td>\n",
       "      <td>25316.000000</td>\n",
       "      <td>2007.000000</td>\n",
       "      <td>7287.000000</td>\n",
       "      <td>457.000000</td>\n",
       "      <td>2714.000000</td>\n",
       "      <td>757.000000</td>\n",
       "      <td>...</td>\n",
       "      <td>30926.000000</td>\n",
       "      <td>13.0</td>\n",
       "      <td>297.000000</td>\n",
       "      <td>1.099181e+06</td>\n",
       "      <td>2868.000000</td>\n",
       "      <td>619.000000</td>\n",
       "      <td>5139.350000</td>\n",
       "      <td>89.710000</td>\n",
       "      <td>336.730000</td>\n",
       "      <td>1648.000000</td>\n",
       "    </tr>\n",
       "  </tbody>\n",
       "</table>\n",
       "<p>8 rows × 51 columns</p>\n",
       "</div>"
      ],
      "text/plain": [
       "       Unnamed: 0    OBJECTID       GEOID10        County  Total_Population  \\\n",
       "count  944.000000  944.000000  9.440000e+02    944.000000        944.000000   \n",
       "mean   473.542373  474.527542  1.311068e+10  13110.601695       5929.840042   \n",
       "std    274.154848  274.155526  5.132188e+07     51.361219       2905.633562   \n",
       "min      0.000000    1.000000  1.301318e+10  13013.000000       1070.000000   \n",
       "25%    235.750000  236.750000  1.306703e+10  13067.000000       3965.250000   \n",
       "50%    474.500000  475.500000  1.311713e+10  13117.000000       5428.500000   \n",
       "75%    710.250000  711.250000  1.313505e+10  13135.000000       7351.000000   \n",
       "max    947.000000  948.000000  1.329711e+10  13297.000000      25316.000000   \n",
       "\n",
       "       Total_Population_MOE_2016  Total_households  Total_households_MOE  \\\n",
       "count                 944.000000        944.000000            944.000000   \n",
       "mean                  538.310381       2099.554025            138.206568   \n",
       "std                   249.760785        969.580036             63.214046   \n",
       "min                    18.000000          0.000000             13.000000   \n",
       "25%                   359.750000       1433.250000             93.000000   \n",
       "50%                   493.500000       1944.500000            128.000000   \n",
       "75%                   658.500000       2598.750000            172.000000   \n",
       "max                  2007.000000       7287.000000            457.000000   \n",
       "\n",
       "       HH_income_less_35k  HH_income_less_35k_MOE  ...         cases  \\\n",
       "count          944.000000              944.000000  ...    944.000000   \n",
       "mean           606.118644              172.100636  ...  18201.776483   \n",
       "std            371.646654               82.925790  ...  11176.196479   \n",
       "min              0.000000               32.000000  ...   1576.000000   \n",
       "25%            327.750000              108.000000  ...   6163.000000   \n",
       "50%            533.500000              159.000000  ...  21049.000000   \n",
       "75%            799.250000              221.250000  ...  30383.000000   \n",
       "max           2714.000000              757.000000  ...  30926.000000   \n",
       "\n",
       "       State FIPS code  County FIPS code    population  hospitalization  \\\n",
       "count            944.0        944.000000  9.440000e+02       944.000000   \n",
       "mean              13.0        110.601695  6.457978e+05      1663.019068   \n",
       "std                0.0         51.361219  3.819744e+05      1030.532913   \n",
       "min               13.0         13.000000  6.911000e+04       128.000000   \n",
       "25%               13.0         67.000000  2.398660e+05       464.000000   \n",
       "50%               13.0        117.000000  7.905880e+05      1964.000000   \n",
       "75%               13.0        135.000000  9.711450e+05      2594.000000   \n",
       "max               13.0        297.000000  1.099181e+06      2868.000000   \n",
       "\n",
       "           deaths    case rate  death rate  14 day case rate  14 day cases  \n",
       "count  944.000000   944.000000  944.000000        944.000000    944.000000  \n",
       "mean   340.504237  2766.199089   53.188146        149.616886    942.792373  \n",
       "std    210.006681   583.803999   13.146943         37.454588    566.616191  \n",
       "min     40.000000  1806.130000   20.990000         92.150000    113.000000  \n",
       "25%    102.000000  2653.840000   45.510000        129.400000    359.000000  \n",
       "50%    397.000000  2759.210000   56.310000        149.670000   1023.000000  \n",
       "75%    454.000000  2813.550000   57.430000        153.220000   1488.000000  \n",
       "max    619.000000  5139.350000   89.710000        336.730000   1648.000000  \n",
       "\n",
       "[8 rows x 51 columns]"
      ]
     },
     "execution_count": 4,
     "metadata": {},
     "output_type": "execute_result"
    }
   ],
   "source": [
    "df3.describe()"
   ]
  },
  {
   "cell_type": "markdown",
   "metadata": {
    "id": "J3B10Yi9xCeO"
   },
   "source": [
    "### The code in the following cells normalizes the data by population and displays the result."
   ]
  },
  {
   "cell_type": "code",
   "execution_count": 5,
   "metadata": {
    "colab": {
     "base_uri": "https://localhost:8080/",
     "height": 351
    },
    "id": "WWFOyuxWkfon",
    "outputId": "476703c9-0b77-4b15-ae3e-62f8159e8a32"
   },
   "outputs": [
    {
     "data": {
      "text/html": [
       "<div>\n",
       "<style scoped>\n",
       "    .dataframe tbody tr th:only-of-type {\n",
       "        vertical-align: middle;\n",
       "    }\n",
       "\n",
       "    .dataframe tbody tr th {\n",
       "        vertical-align: top;\n",
       "    }\n",
       "\n",
       "    .dataframe thead th {\n",
       "        text-align: right;\n",
       "    }\n",
       "</style>\n",
       "<table border=\"1\" class=\"dataframe\">\n",
       "  <thead>\n",
       "    <tr style=\"text-align: right;\">\n",
       "      <th></th>\n",
       "      <th>Unnamed: 0</th>\n",
       "      <th>OBJECTID</th>\n",
       "      <th>GEOID10</th>\n",
       "      <th>County</th>\n",
       "      <th>Total_Population</th>\n",
       "      <th>Total_Population_MOE_2016</th>\n",
       "      <th>Total_households</th>\n",
       "      <th>Total_households_MOE</th>\n",
       "      <th>HH_income_less_35k</th>\n",
       "      <th>HH_income_less_35k_MOE</th>\n",
       "      <th>...</th>\n",
       "      <th>cases</th>\n",
       "      <th>State FIPS code</th>\n",
       "      <th>County FIPS code</th>\n",
       "      <th>population</th>\n",
       "      <th>hospitalization</th>\n",
       "      <th>deaths</th>\n",
       "      <th>case rate</th>\n",
       "      <th>death rate</th>\n",
       "      <th>14 day case rate</th>\n",
       "      <th>14 day cases</th>\n",
       "    </tr>\n",
       "  </thead>\n",
       "  <tbody>\n",
       "    <tr>\n",
       "      <th>count</th>\n",
       "      <td>944.000000</td>\n",
       "      <td>944.000000</td>\n",
       "      <td>9.440000e+02</td>\n",
       "      <td>944.000000</td>\n",
       "      <td>944.000000</td>\n",
       "      <td>944.000000</td>\n",
       "      <td>944.000000</td>\n",
       "      <td>944.000000</td>\n",
       "      <td>944.000000</td>\n",
       "      <td>944.000000</td>\n",
       "      <td>...</td>\n",
       "      <td>944.000000</td>\n",
       "      <td>944.0</td>\n",
       "      <td>944.000000</td>\n",
       "      <td>9.440000e+02</td>\n",
       "      <td>944.000000</td>\n",
       "      <td>944.000000</td>\n",
       "      <td>944.000000</td>\n",
       "      <td>944.000000</td>\n",
       "      <td>944.000000</td>\n",
       "      <td>944.000000</td>\n",
       "    </tr>\n",
       "    <tr>\n",
       "      <th>mean</th>\n",
       "      <td>473.542373</td>\n",
       "      <td>474.527542</td>\n",
       "      <td>1.311068e+10</td>\n",
       "      <td>13110.601695</td>\n",
       "      <td>5929.840042</td>\n",
       "      <td>538.310381</td>\n",
       "      <td>2099.554025</td>\n",
       "      <td>138.206568</td>\n",
       "      <td>606.118644</td>\n",
       "      <td>172.100636</td>\n",
       "      <td>...</td>\n",
       "      <td>18201.776483</td>\n",
       "      <td>13.0</td>\n",
       "      <td>110.601695</td>\n",
       "      <td>6.457978e+05</td>\n",
       "      <td>1663.019068</td>\n",
       "      <td>340.504237</td>\n",
       "      <td>2766.199089</td>\n",
       "      <td>53.188146</td>\n",
       "      <td>149.616886</td>\n",
       "      <td>942.792373</td>\n",
       "    </tr>\n",
       "    <tr>\n",
       "      <th>std</th>\n",
       "      <td>274.154848</td>\n",
       "      <td>274.155526</td>\n",
       "      <td>5.132188e+07</td>\n",
       "      <td>51.361219</td>\n",
       "      <td>2905.633562</td>\n",
       "      <td>249.760785</td>\n",
       "      <td>969.580036</td>\n",
       "      <td>63.214046</td>\n",
       "      <td>371.646654</td>\n",
       "      <td>82.925790</td>\n",
       "      <td>...</td>\n",
       "      <td>11176.196479</td>\n",
       "      <td>0.0</td>\n",
       "      <td>51.361219</td>\n",
       "      <td>3.819744e+05</td>\n",
       "      <td>1030.532913</td>\n",
       "      <td>210.006681</td>\n",
       "      <td>583.803999</td>\n",
       "      <td>13.146943</td>\n",
       "      <td>37.454588</td>\n",
       "      <td>566.616191</td>\n",
       "    </tr>\n",
       "    <tr>\n",
       "      <th>min</th>\n",
       "      <td>0.000000</td>\n",
       "      <td>1.000000</td>\n",
       "      <td>1.301318e+10</td>\n",
       "      <td>13013.000000</td>\n",
       "      <td>1070.000000</td>\n",
       "      <td>18.000000</td>\n",
       "      <td>0.000000</td>\n",
       "      <td>13.000000</td>\n",
       "      <td>0.000000</td>\n",
       "      <td>32.000000</td>\n",
       "      <td>...</td>\n",
       "      <td>1576.000000</td>\n",
       "      <td>13.0</td>\n",
       "      <td>13.000000</td>\n",
       "      <td>6.911000e+04</td>\n",
       "      <td>128.000000</td>\n",
       "      <td>40.000000</td>\n",
       "      <td>1806.130000</td>\n",
       "      <td>20.990000</td>\n",
       "      <td>92.150000</td>\n",
       "      <td>113.000000</td>\n",
       "    </tr>\n",
       "    <tr>\n",
       "      <th>25%</th>\n",
       "      <td>235.750000</td>\n",
       "      <td>236.750000</td>\n",
       "      <td>1.306703e+10</td>\n",
       "      <td>13067.000000</td>\n",
       "      <td>3965.250000</td>\n",
       "      <td>359.750000</td>\n",
       "      <td>1433.250000</td>\n",
       "      <td>93.000000</td>\n",
       "      <td>327.750000</td>\n",
       "      <td>108.000000</td>\n",
       "      <td>...</td>\n",
       "      <td>6163.000000</td>\n",
       "      <td>13.0</td>\n",
       "      <td>67.000000</td>\n",
       "      <td>2.398660e+05</td>\n",
       "      <td>464.000000</td>\n",
       "      <td>102.000000</td>\n",
       "      <td>2653.840000</td>\n",
       "      <td>45.510000</td>\n",
       "      <td>129.400000</td>\n",
       "      <td>359.000000</td>\n",
       "    </tr>\n",
       "    <tr>\n",
       "      <th>50%</th>\n",
       "      <td>474.500000</td>\n",
       "      <td>475.500000</td>\n",
       "      <td>1.311713e+10</td>\n",
       "      <td>13117.000000</td>\n",
       "      <td>5428.500000</td>\n",
       "      <td>493.500000</td>\n",
       "      <td>1944.500000</td>\n",
       "      <td>128.000000</td>\n",
       "      <td>533.500000</td>\n",
       "      <td>159.000000</td>\n",
       "      <td>...</td>\n",
       "      <td>21049.000000</td>\n",
       "      <td>13.0</td>\n",
       "      <td>117.000000</td>\n",
       "      <td>7.905880e+05</td>\n",
       "      <td>1964.000000</td>\n",
       "      <td>397.000000</td>\n",
       "      <td>2759.210000</td>\n",
       "      <td>56.310000</td>\n",
       "      <td>149.670000</td>\n",
       "      <td>1023.000000</td>\n",
       "    </tr>\n",
       "    <tr>\n",
       "      <th>75%</th>\n",
       "      <td>710.250000</td>\n",
       "      <td>711.250000</td>\n",
       "      <td>1.313505e+10</td>\n",
       "      <td>13135.000000</td>\n",
       "      <td>7351.000000</td>\n",
       "      <td>658.500000</td>\n",
       "      <td>2598.750000</td>\n",
       "      <td>172.000000</td>\n",
       "      <td>799.250000</td>\n",
       "      <td>221.250000</td>\n",
       "      <td>...</td>\n",
       "      <td>30383.000000</td>\n",
       "      <td>13.0</td>\n",
       "      <td>135.000000</td>\n",
       "      <td>9.711450e+05</td>\n",
       "      <td>2594.000000</td>\n",
       "      <td>454.000000</td>\n",
       "      <td>2813.550000</td>\n",
       "      <td>57.430000</td>\n",
       "      <td>153.220000</td>\n",
       "      <td>1488.000000</td>\n",
       "    </tr>\n",
       "    <tr>\n",
       "      <th>max</th>\n",
       "      <td>947.000000</td>\n",
       "      <td>948.000000</td>\n",
       "      <td>1.329711e+10</td>\n",
       "      <td>13297.000000</td>\n",
       "      <td>25316.000000</td>\n",
       "      <td>2007.000000</td>\n",
       "      <td>7287.000000</td>\n",
       "      <td>457.000000</td>\n",
       "      <td>2714.000000</td>\n",
       "      <td>757.000000</td>\n",
       "      <td>...</td>\n",
       "      <td>30926.000000</td>\n",
       "      <td>13.0</td>\n",
       "      <td>297.000000</td>\n",
       "      <td>1.099181e+06</td>\n",
       "      <td>2868.000000</td>\n",
       "      <td>619.000000</td>\n",
       "      <td>5139.350000</td>\n",
       "      <td>89.710000</td>\n",
       "      <td>336.730000</td>\n",
       "      <td>1648.000000</td>\n",
       "    </tr>\n",
       "  </tbody>\n",
       "</table>\n",
       "<p>8 rows × 51 columns</p>\n",
       "</div>"
      ],
      "text/plain": [
       "       Unnamed: 0    OBJECTID       GEOID10        County  Total_Population  \\\n",
       "count  944.000000  944.000000  9.440000e+02    944.000000        944.000000   \n",
       "mean   473.542373  474.527542  1.311068e+10  13110.601695       5929.840042   \n",
       "std    274.154848  274.155526  5.132188e+07     51.361219       2905.633562   \n",
       "min      0.000000    1.000000  1.301318e+10  13013.000000       1070.000000   \n",
       "25%    235.750000  236.750000  1.306703e+10  13067.000000       3965.250000   \n",
       "50%    474.500000  475.500000  1.311713e+10  13117.000000       5428.500000   \n",
       "75%    710.250000  711.250000  1.313505e+10  13135.000000       7351.000000   \n",
       "max    947.000000  948.000000  1.329711e+10  13297.000000      25316.000000   \n",
       "\n",
       "       Total_Population_MOE_2016  Total_households  Total_households_MOE  \\\n",
       "count                 944.000000        944.000000            944.000000   \n",
       "mean                  538.310381       2099.554025            138.206568   \n",
       "std                   249.760785        969.580036             63.214046   \n",
       "min                    18.000000          0.000000             13.000000   \n",
       "25%                   359.750000       1433.250000             93.000000   \n",
       "50%                   493.500000       1944.500000            128.000000   \n",
       "75%                   658.500000       2598.750000            172.000000   \n",
       "max                  2007.000000       7287.000000            457.000000   \n",
       "\n",
       "       HH_income_less_35k  HH_income_less_35k_MOE  ...         cases  \\\n",
       "count          944.000000              944.000000  ...    944.000000   \n",
       "mean           606.118644              172.100636  ...  18201.776483   \n",
       "std            371.646654               82.925790  ...  11176.196479   \n",
       "min              0.000000               32.000000  ...   1576.000000   \n",
       "25%            327.750000              108.000000  ...   6163.000000   \n",
       "50%            533.500000              159.000000  ...  21049.000000   \n",
       "75%            799.250000              221.250000  ...  30383.000000   \n",
       "max           2714.000000              757.000000  ...  30926.000000   \n",
       "\n",
       "       State FIPS code  County FIPS code    population  hospitalization  \\\n",
       "count            944.0        944.000000  9.440000e+02       944.000000   \n",
       "mean              13.0        110.601695  6.457978e+05      1663.019068   \n",
       "std                0.0         51.361219  3.819744e+05      1030.532913   \n",
       "min               13.0         13.000000  6.911000e+04       128.000000   \n",
       "25%               13.0         67.000000  2.398660e+05       464.000000   \n",
       "50%               13.0        117.000000  7.905880e+05      1964.000000   \n",
       "75%               13.0        135.000000  9.711450e+05      2594.000000   \n",
       "max               13.0        297.000000  1.099181e+06      2868.000000   \n",
       "\n",
       "           deaths    case rate  death rate  14 day case rate  14 day cases  \n",
       "count  944.000000   944.000000  944.000000        944.000000    944.000000  \n",
       "mean   340.504237  2766.199089   53.188146        149.616886    942.792373  \n",
       "std    210.006681   583.803999   13.146943         37.454588    566.616191  \n",
       "min     40.000000  1806.130000   20.990000         92.150000    113.000000  \n",
       "25%    102.000000  2653.840000   45.510000        129.400000    359.000000  \n",
       "50%    397.000000  2759.210000   56.310000        149.670000   1023.000000  \n",
       "75%    454.000000  2813.550000   57.430000        153.220000   1488.000000  \n",
       "max    619.000000  5139.350000   89.710000        336.730000   1648.000000  \n",
       "\n",
       "[8 rows x 51 columns]"
      ]
     },
     "execution_count": 5,
     "metadata": {},
     "output_type": "execute_result"
    }
   ],
   "source": [
    "#df3[[\"deaths\",\"Total_Population\"]] = scaler.fit_transform(df3[[\"deaths\",\"Total_Population\"]])\n",
    "death_norm_list=df3[\"deaths\"]/df3[\"Total_Population\"]\n",
    "df3.describe()"
   ]
  },
  {
   "cell_type": "code",
   "execution_count": 6,
   "metadata": {
    "colab": {
     "base_uri": "https://localhost:8080/"
    },
    "id": "6b8xVt5VpPoW",
    "outputId": "17cc1384-24dd-4c89-e738-17bee80a898c"
   },
   "outputs": [
    {
     "name": "stdout",
     "output_type": "stream",
     "text": [
      "0      0.232710\n",
      "1      0.353199\n",
      "2      0.133736\n",
      "3      0.277824\n",
      "4      0.191961\n",
      "         ...   \n",
      "939    0.024423\n",
      "940    0.107178\n",
      "941    0.097302\n",
      "942    0.066429\n",
      "943    0.059093\n",
      "Length: 944, dtype: float64\n"
     ]
    }
   ],
   "source": [
    "low_income_norm_list = df3[\"HH_income_less_35k\"]/df3[\"Total_Population\"]\n",
    "print(low_income_norm_list)"
   ]
  },
  {
   "cell_type": "markdown",
   "metadata": {
    "id": "NQBklGmMxzNH"
   },
   "source": [
    "### The following code assigns the x-value for the plots."
   ]
  },
  {
   "cell_type": "code",
   "execution_count": 7,
   "metadata": {
    "id": "malz2gU5kfot"
   },
   "outputs": [],
   "source": [
    "\n",
    "x=low_income_norm_list\n",
    "\n"
   ]
  },
  {
   "cell_type": "markdown",
   "metadata": {
    "id": "lRc0x3ZJx5zk"
   },
   "source": [
    "### The following code assigns the y-value for the plots."
   ]
  },
  {
   "cell_type": "code",
   "execution_count": 8,
   "metadata": {
    "id": "Z6HUvOYBkfov"
   },
   "outputs": [],
   "source": [
    "\n",
    "y= death_norm_list\n"
   ]
  },
  {
   "cell_type": "markdown",
   "metadata": {
    "id": "nm2HzyR0x8rh"
   },
   "source": [
    "### The following code forces the two lists into arrays."
   ]
  },
  {
   "cell_type": "code",
   "execution_count": 9,
   "metadata": {
    "id": "GbyjYvL-ud20"
   },
   "outputs": [],
   "source": [
    "d_norm = np.array(death_norm_list)\n",
    "li_norm = np.array(low_income_norm_list)\n"
   ]
  },
  {
   "cell_type": "markdown",
   "metadata": {
    "id": "iA5uMVN2yDQ8"
   },
   "source": [
    "### The following code cells shape the new arrays."
   ]
  },
  {
   "cell_type": "code",
   "execution_count": 10,
   "metadata": {
    "colab": {
     "base_uri": "https://localhost:8080/"
    },
    "id": "96Isn4r_wGCS",
    "outputId": "e0cc9cd6-a3bd-487b-b8c8-db2cf53e46e0"
   },
   "outputs": [
    {
     "data": {
      "text/plain": [
       "(944,)"
      ]
     },
     "execution_count": 10,
     "metadata": {},
     "output_type": "execute_result"
    }
   ],
   "source": [
    "np.shape(d_norm)"
   ]
  },
  {
   "cell_type": "code",
   "execution_count": 11,
   "metadata": {
    "colab": {
     "base_uri": "https://localhost:8080/"
    },
    "id": "VcpQeWmRv6A6",
    "outputId": "38aab9a7-5c73-4267-ecf6-6aa86cd7f247"
   },
   "outputs": [
    {
     "data": {
      "text/plain": [
       "(944,)"
      ]
     },
     "execution_count": 11,
     "metadata": {},
     "output_type": "execute_result"
    }
   ],
   "source": [
    "np.shape(li_norm)"
   ]
  },
  {
   "cell_type": "markdown",
   "metadata": {
    "id": "i7wq-NpWySx4"
   },
   "source": [
    "### The following code correlates the arrays."
   ]
  },
  {
   "cell_type": "code",
   "execution_count": 12,
   "metadata": {
    "colab": {
     "base_uri": "https://localhost:8080/"
    },
    "id": "cFgWU67vkfoy",
    "outputId": "23cf0d0d-47e1-47ca-c753-342629a45d69"
   },
   "outputs": [
    {
     "data": {
      "text/plain": [
       "array([9.94798523])"
      ]
     },
     "execution_count": 12,
     "metadata": {},
     "output_type": "execute_result"
    }
   ],
   "source": [
    "np.correlate(d_norm,li_norm)"
   ]
  },
  {
   "cell_type": "markdown",
   "metadata": {
    "id": "8zeDDNgVyUll"
   },
   "source": [
    "### The following code finds the correlation coefficients of the arrays."
   ]
  },
  {
   "cell_type": "code",
   "execution_count": 13,
   "metadata": {
    "colab": {
     "base_uri": "https://localhost:8080/"
    },
    "id": "k8TwNtCgkfo0",
    "outputId": "f60a6747-1f43-4f05-9561-cd36f03e7102"
   },
   "outputs": [
    {
     "name": "stdout",
     "output_type": "stream",
     "text": [
      "[[1.         0.38340791]\n",
      " [0.38340791 1.        ]]\n"
     ]
    }
   ],
   "source": [
    "corrcoef= np.corrcoef(d_norm,li_norm)\n",
    "print(corrcoef)"
   ]
  },
  {
   "cell_type": "markdown",
   "metadata": {
    "id": "ONHUyb1MyeeI"
   },
   "source": [
    "### The following code performs a linear regression, displays the slope, intercept, and standard error. "
   ]
  },
  {
   "cell_type": "code",
   "execution_count": 14,
   "metadata": {
    "colab": {
     "base_uri": "https://localhost:8080/"
    },
    "id": "fBGNZ2c2kfo3",
    "outputId": "52784292-889e-4974-9584-612d673e3382"
   },
   "outputs": [
    {
     "name": "stdout",
     "output_type": "stream",
     "text": [
      "0.4746554664989721\n"
     ]
    }
   ],
   "source": [
    "result = scipy.stats.linregress(x, y)\n",
    "print(result.slope)"
   ]
  },
  {
   "cell_type": "code",
   "execution_count": 15,
   "metadata": {
    "colab": {
     "base_uri": "https://localhost:8080/"
    },
    "id": "zzC82fLokfo5",
    "outputId": "104892c9-3266-41ba-c039-52dde5c7d10a"
   },
   "outputs": [
    {
     "name": "stdout",
     "output_type": "stream",
     "text": [
      "0.024702441017969416\n"
     ]
    }
   ],
   "source": [
    "print(result.intercept)"
   ]
  },
  {
   "cell_type": "code",
   "execution_count": 16,
   "metadata": {
    "colab": {
     "base_uri": "https://localhost:8080/"
    },
    "id": "ISJD31dikfo8",
    "outputId": "380731c1-462a-47c8-c8bd-7afa8dcca980"
   },
   "outputs": [
    {
     "name": "stdout",
     "output_type": "stream",
     "text": [
      "0.03725341367352298\n"
     ]
    }
   ],
   "source": [
    "print(result.stderr)"
   ]
  },
  {
   "cell_type": "markdown",
   "metadata": {
    "id": "3dNYlFxpy9Oz"
   },
   "source": [
    "### The following code creates a scatter plot from the arrays."
   ]
  },
  {
   "cell_type": "code",
   "execution_count": 17,
   "metadata": {
    "colab": {
     "base_uri": "https://localhost:8080/",
     "height": 295
    },
    "id": "0ElN2rOukfpE",
    "outputId": "581c98fc-4d8c-45a7-ad1d-fedb8bdf253b"
   },
   "outputs": [
    {
     "data": {
      "image/png": "[encoded data removed]",
      "text/plain": [
       "<Figure size 432x288 with 1 Axes>"
      ]
     },
     "metadata": {
      "needs_background": "light"
     },
     "output_type": "display_data"
    }
   ],
   "source": [
    "plt.clf()\n",
    "plt.plot(low_income_norm_list,death_norm_list,\"o\",markersize=1)\n",
    "\n",
    "# Set the x axis label of the current axis.\n",
    "plt.xlabel('Income household/population')\n",
    "# Set the y axis label of the current axis.\n",
    "plt.ylabel('Death/population')\n",
    "\n",
    "# Set a title \n",
    "plt.title('Deaths per HH income under 35k')\n",
    "# Display the figure.\n",
    "plt.show()"
   ]
  },
  {
   "cell_type": "markdown",
   "metadata": {
    "id": "NavQggWx8td8"
   },
   "source": [
    "### The code in the following cells normalizes the data by population and displays the result."
   ]
  },
  {
   "cell_type": "code",
   "execution_count": 18,
   "metadata": {
    "colab": {
     "base_uri": "https://localhost:8080/"
    },
    "id": "mrW85XU_8teH",
    "outputId": "be799470-25dc-4327-a952-db2fcbfe00e2"
   },
   "outputs": [
    {
     "name": "stdout",
     "output_type": "stream",
     "text": [
      "0      0.190654\n",
      "1      0.128834\n",
      "2      0.119068\n",
      "3      0.210879\n",
      "4      0.108285\n",
      "         ...   \n",
      "939    0.083592\n",
      "940    0.121217\n",
      "941    0.147024\n",
      "942    0.115830\n",
      "943    0.095947\n",
      "Length: 944, dtype: float64\n"
     ]
    }
   ],
   "source": [
    "low_income3575_norm_list = df3[\"HH_income_35k_75k\"]/df3[\"Total_Population\"]\n",
    "print(low_income3575_norm_list)"
   ]
  },
  {
   "cell_type": "markdown",
   "metadata": {
    "id": "4wpAY0VC8teK"
   },
   "source": [
    "### The following code assigns the x-value for the plots."
   ]
  },
  {
   "cell_type": "code",
   "execution_count": 19,
   "metadata": {
    "id": "A-654Cvn8teL"
   },
   "outputs": [],
   "source": [
    "x=low_income3575_norm_list\n",
    "\n"
   ]
  },
  {
   "cell_type": "markdown",
   "metadata": {
    "id": "eo1GlTSZ8teP"
   },
   "source": [
    "### The following code assigns the y-value for the plots."
   ]
  },
  {
   "cell_type": "code",
   "execution_count": 20,
   "metadata": {
    "id": "NM7TCZ1a8teP"
   },
   "outputs": [],
   "source": [
    "y= death_norm_list\n"
   ]
  },
  {
   "cell_type": "markdown",
   "metadata": {
    "id": "NGaekpUh8teR"
   },
   "source": [
    "### The following code forces the two lists into arrays."
   ]
  },
  {
   "cell_type": "code",
   "execution_count": 21,
   "metadata": {
    "id": "hn-VuHAK8teS"
   },
   "outputs": [],
   "source": [
    "d_norm = np.array(death_norm_list)\n",
    "li3575_norm = np.array(low_income3575_norm_list)\n"
   ]
  },
  {
   "cell_type": "markdown",
   "metadata": {
    "id": "hMLJ262W8teU"
   },
   "source": [
    "### The following code cells shape the new arrays."
   ]
  },
  {
   "cell_type": "code",
   "execution_count": 22,
   "metadata": {
    "colab": {
     "base_uri": "https://localhost:8080/"
    },
    "id": "jKRxG15z8teV",
    "outputId": "af05e34b-42e8-482c-dd43-79f5b19d17b0"
   },
   "outputs": [
    {
     "data": {
      "text/plain": [
       "(944,)"
      ]
     },
     "execution_count": 22,
     "metadata": {},
     "output_type": "execute_result"
    }
   ],
   "source": [
    "np.shape(d_norm)"
   ]
  },
  {
   "cell_type": "code",
   "execution_count": 23,
   "metadata": {
    "colab": {
     "base_uri": "https://localhost:8080/"
    },
    "id": "hbO4C7zF8teX",
    "outputId": "b178c44b-6f67-461a-abf1-151c525b13e7"
   },
   "outputs": [
    {
     "data": {
      "text/plain": [
       "(944,)"
      ]
     },
     "execution_count": 23,
     "metadata": {},
     "output_type": "execute_result"
    }
   ],
   "source": [
    "np.shape(li3575_norm)"
   ]
  },
  {
   "cell_type": "markdown",
   "metadata": {
    "id": "dtRvyoKw8teZ"
   },
   "source": [
    "### The following code correlates the arrays."
   ]
  },
  {
   "cell_type": "code",
   "execution_count": 24,
   "metadata": {
    "colab": {
     "base_uri": "https://localhost:8080/"
    },
    "id": "BIv9Kqmd8teZ",
    "outputId": "34646735-bcdf-48b2-8937-a4a399ab1d49"
   },
   "outputs": [
    {
     "data": {
      "text/plain": [
       "array([8.29827846])"
      ]
     },
     "execution_count": 24,
     "metadata": {},
     "output_type": "execute_result"
    }
   ],
   "source": [
    "np.correlate(d_norm,li3575_norm)"
   ]
  },
  {
   "cell_type": "markdown",
   "metadata": {
    "id": "lKJrlzKS8tec"
   },
   "source": [
    "### The following code finds the correlation coefficients of the arrays."
   ]
  },
  {
   "cell_type": "code",
   "execution_count": 25,
   "metadata": {
    "colab": {
     "base_uri": "https://localhost:8080/"
    },
    "id": "v0dvhagY8tec",
    "outputId": "afeca4e5-5fea-49a8-d701-a7e179eb76e9"
   },
   "outputs": [
    {
     "name": "stdout",
     "output_type": "stream",
     "text": [
      "[[1.         0.00431208]\n",
      " [0.00431208 1.        ]]\n"
     ]
    }
   ],
   "source": [
    "corrcoef= np.corrcoef(d_norm,li3575_norm)\n",
    "print(corrcoef)"
   ]
  },
  {
   "cell_type": "markdown",
   "metadata": {
    "id": "h-lHWf_x8tef"
   },
   "source": [
    "### The following code performs a linear regression, displays the slope, intercept, and standard error. "
   ]
  },
  {
   "cell_type": "code",
   "execution_count": 26,
   "metadata": {
    "colab": {
     "base_uri": "https://localhost:8080/"
    },
    "id": "pX14XouX8tef",
    "outputId": "2182fe6b-1001-449f-a7d2-ef94b3a0e211"
   },
   "outputs": [
    {
     "name": "stdout",
     "output_type": "stream",
     "text": [
      "0.009302284491690316\n"
     ]
    }
   ],
   "source": [
    "result = scipy.stats.linregress(x, y)\n",
    "print(result.slope)"
   ]
  },
  {
   "cell_type": "code",
   "execution_count": 27,
   "metadata": {
    "colab": {
     "base_uri": "https://localhost:8080/"
    },
    "id": "RkALq2Ki8teh",
    "outputId": "eb84e6dc-eb7a-413a-de59-93d2c7faca1c"
   },
   "outputs": [
    {
     "name": "stdout",
     "output_type": "stream",
     "text": [
      "0.07637775064422275\n"
     ]
    }
   ],
   "source": [
    "print(result.intercept)"
   ]
  },
  {
   "cell_type": "code",
   "execution_count": 28,
   "metadata": {
    "colab": {
     "base_uri": "https://localhost:8080/"
    },
    "id": "v1VV1HUW8tek",
    "outputId": "93b6c96b-67d7-4386-afaa-ef3157bb07ba"
   },
   "outputs": [
    {
     "name": "stdout",
     "output_type": "stream",
     "text": [
      "0.07028670777259527\n"
     ]
    }
   ],
   "source": [
    "print(result.stderr)"
   ]
  },
  {
   "cell_type": "markdown",
   "metadata": {
    "id": "Bs7jUbkB8tem"
   },
   "source": [
    "### The following code creates a scatter plot from the arrays."
   ]
  },
  {
   "cell_type": "code",
   "execution_count": 29,
   "metadata": {
    "colab": {
     "base_uri": "https://localhost:8080/",
     "height": 295
    },
    "id": "CX_BUxj28ten",
    "outputId": "a3dcbeb9-3e79-4274-b792-a4036a5b254a"
   },
   "outputs": [
    {
     "data": {
      "image/png": "[encoded data removed]",
      "text/plain": [
       "<Figure size 432x288 with 1 Axes>"
      ]
     },
     "metadata": {
      "needs_background": "light"
     },
     "output_type": "display_data"
    }
   ],
   "source": [
    "plt.clf()\n",
    "plt.plot(low_income3575_norm_list,death_norm_list,\"o\",markersize=1)\n",
    "# Set the x axis label of the current axis.\n",
    "plt.xlabel('Income per household/population')\n",
    "# Set the y axis label of the current axis.\n",
    "plt.ylabel('Death/population')\n",
    "#plt.legend()\n",
    "# Set a title \n",
    "plt.title('Deaths per HH income between 35K-75K')\n",
    "# Display the figure.\n",
    "plt.show()"
   ]
  },
  {
   "cell_type": "markdown",
   "metadata": {
    "id": "NavQggWx8td8"
   },
   "source": [
    "### The code in the following cells normalizes the data by population and displays the result."
   ]
  },
  {
   "cell_type": "code",
   "execution_count": 30,
   "metadata": {
    "colab": {
     "base_uri": "https://localhost:8080/"
    },
    "id": "mrW85XU_8teH",
    "outputId": "be799470-25dc-4327-a952-db2fcbfe00e2"
   },
   "outputs": [
    {
     "name": "stdout",
     "output_type": "stream",
     "text": [
      "0      0.062617\n",
      "1      0.043821\n",
      "2      0.045729\n",
      "3      0.056904\n",
      "4      0.023790\n",
      "         ...   \n",
      "939    0.161135\n",
      "940    0.098165\n",
      "941    0.087149\n",
      "942    0.153549\n",
      "943    0.106059\n",
      "Length: 944, dtype: float64\n"
     ]
    }
   ],
   "source": [
    "himid_income75200_norm_list = df3[\"HH_income_75k_200k\"]/df3[\"Total_Population\"]\n",
    "print(himid_income75200_norm_list)"
   ]
  },
  {
   "cell_type": "markdown",
   "metadata": {
    "id": "4wpAY0VC8teK"
   },
   "source": [
    "### The following code assigns the x-value for the plots."
   ]
  },
  {
   "cell_type": "code",
   "execution_count": 31,
   "metadata": {
    "id": "A-654Cvn8teL"
   },
   "outputs": [],
   "source": [
    "x=himid_income75200_norm_list\n"
   ]
  },
  {
   "cell_type": "markdown",
   "metadata": {
    "id": "eo1GlTSZ8teP"
   },
   "source": [
    "### The following code assigns the y-value for the plots."
   ]
  },
  {
   "cell_type": "code",
   "execution_count": 32,
   "metadata": {
    "id": "NM7TCZ1a8teP"
   },
   "outputs": [],
   "source": [
    "y= death_norm_list\n"
   ]
  },
  {
   "cell_type": "markdown",
   "metadata": {
    "id": "NGaekpUh8teR"
   },
   "source": [
    "### The following code forces the two lists into arrays."
   ]
  },
  {
   "cell_type": "code",
   "execution_count": 33,
   "metadata": {
    "id": "hn-VuHAK8teS"
   },
   "outputs": [],
   "source": [
    "d_norm = np.array(death_norm_list)\n",
    "hm75200_norm = np.array(himid_income75200_norm_list)\n"
   ]
  },
  {
   "cell_type": "markdown",
   "metadata": {
    "id": "hMLJ262W8teU"
   },
   "source": [
    "### The following code cells shape the new arrays."
   ]
  },
  {
   "cell_type": "code",
   "execution_count": 34,
   "metadata": {
    "colab": {
     "base_uri": "https://localhost:8080/"
    },
    "id": "jKRxG15z8teV",
    "outputId": "af05e34b-42e8-482c-dd43-79f5b19d17b0"
   },
   "outputs": [
    {
     "data": {
      "text/plain": [
       "(944,)"
      ]
     },
     "execution_count": 34,
     "metadata": {},
     "output_type": "execute_result"
    }
   ],
   "source": [
    "np.shape(d_norm)"
   ]
  },
  {
   "cell_type": "code",
   "execution_count": 35,
   "metadata": {
    "colab": {
     "base_uri": "https://localhost:8080/"
    },
    "id": "hbO4C7zF8teX",
    "outputId": "b178c44b-6f67-461a-abf1-151c525b13e7"
   },
   "outputs": [
    {
     "data": {
      "text/plain": [
       "(944,)"
      ]
     },
     "execution_count": 35,
     "metadata": {},
     "output_type": "execute_result"
    }
   ],
   "source": [
    "np.shape(hm75200_norm)"
   ]
  },
  {
   "cell_type": "markdown",
   "metadata": {
    "id": "dtRvyoKw8teZ"
   },
   "source": [
    "### The following code correlates the arrays."
   ]
  },
  {
   "cell_type": "code",
   "execution_count": 36,
   "metadata": {},
   "outputs": [
    {
     "data": {
      "text/plain": [
       "array([7.73071831])"
      ]
     },
     "execution_count": 36,
     "metadata": {},
     "output_type": "execute_result"
    }
   ],
   "source": [
    "np.correlate(d_norm,hm75200_norm)"
   ]
  },
  {
   "cell_type": "markdown",
   "metadata": {
    "id": "lKJrlzKS8tec"
   },
   "source": [
    "### The following code finds the correlation coefficients of the arrays."
   ]
  },
  {
   "cell_type": "code",
   "execution_count": 37,
   "metadata": {
    "colab": {
     "base_uri": "https://localhost:8080/"
    },
    "id": "v0dvhagY8tec",
    "outputId": "afeca4e5-5fea-49a8-d701-a7e179eb76e9"
   },
   "outputs": [
    {
     "name": "stdout",
     "output_type": "stream",
     "text": [
      "[[ 1.         -0.14486735]\n",
      " [-0.14486735  1.        ]]\n"
     ]
    }
   ],
   "source": [
    "corrcoef= np.corrcoef(d_norm,hm75200_norm)\n",
    "print(corrcoef)"
   ]
  },
  {
   "cell_type": "markdown",
   "metadata": {
    "id": "h-lHWf_x8tef"
   },
   "source": [
    "### The following code performs a linear regression, displays the slope, intercept, and standard error. "
   ]
  },
  {
   "cell_type": "code",
   "execution_count": 38,
   "metadata": {
    "colab": {
     "base_uri": "https://localhost:8080/"
    },
    "id": "pX14XouX8tef",
    "outputId": "2182fe6b-1001-449f-a7d2-ef94b3a0e211"
   },
   "outputs": [
    {
     "name": "stdout",
     "output_type": "stream",
     "text": [
      "-0.21829054403118842\n"
     ]
    }
   ],
   "source": [
    "result = scipy.stats.linregress(x, y)\n",
    "print(result.slope)"
   ]
  },
  {
   "cell_type": "code",
   "execution_count": 39,
   "metadata": {
    "colab": {
     "base_uri": "https://localhost:8080/"
    },
    "id": "RkALq2Ki8teh",
    "outputId": "eb84e6dc-eb7a-413a-de59-93d2c7faca1c"
   },
   "outputs": [
    {
     "name": "stdout",
     "output_type": "stream",
     "text": [
      "0.10221328515562919\n"
     ]
    }
   ],
   "source": [
    "print(result.intercept)"
   ]
  },
  {
   "cell_type": "code",
   "execution_count": 40,
   "metadata": {
    "colab": {
     "base_uri": "https://localhost:8080/"
    },
    "id": "v1VV1HUW8tek",
    "outputId": "93b6c96b-67d7-4386-afaa-ef3157bb07ba"
   },
   "outputs": [
    {
     "name": "stdout",
     "output_type": "stream",
     "text": [
      "0.04857728925473029\n"
     ]
    }
   ],
   "source": [
    "print(result.stderr)"
   ]
  },
  {
   "cell_type": "markdown",
   "metadata": {
    "id": "Bs7jUbkB8tem"
   },
   "source": [
    "### The following code creates a scatter plot from the arrays."
   ]
  },
  {
   "cell_type": "code",
   "execution_count": 41,
   "metadata": {
    "colab": {
     "base_uri": "https://localhost:8080/",
     "height": 295
    },
    "id": "CX_BUxj28ten",
    "outputId": "a3dcbeb9-3e79-4274-b792-a4036a5b254a"
   },
   "outputs": [
    {
     "data": {
      "image/png": "[encoded data removed]",
      "text/plain": [
       "<Figure size 432x288 with 1 Axes>"
      ]
     },
     "metadata": {
      "needs_background": "light"
     },
     "output_type": "display_data"
    }
   ],
   "source": [
    "plt.clf()\n",
    "plt.plot(himid_income75200_norm_list,death_norm_list,\"o\",markersize=1)\n",
    "# Set the x axis label of the current axis.\n",
    "plt.xlabel('Income per household/population')\n",
    "# Set the y axis label of the current axis.\n",
    "plt.ylabel('Death/population')\n",
    "#plt.legend()\n",
    "# Set a title \n",
    "plt.title('Deaths per HH income between 75k-200K')\n",
    "# Display the figure.\n",
    "plt.show()"
   ]
  },
  {
   "cell_type": "code",
   "execution_count": null,
   "metadata": {},
   "outputs": [],
   "source": []
  },
  {
   "cell_type": "markdown",
   "metadata": {
    "id": "Sc03wsvK_YHT"
   },
   "source": [
    "### The code in the following cells normalizes the data by population and displays the result."
   ]
  },
  {
   "cell_type": "code",
   "execution_count": 42,
   "metadata": {
    "colab": {
     "base_uri": "https://localhost:8080/"
    },
    "id": "iRngXaPV_YHV",
    "outputId": "97138c78-8071-45fc-fe1c-09e1a88801c4"
   },
   "outputs": [
    {
     "name": "stdout",
     "output_type": "stream",
     "text": [
      "0      0.004673\n",
      "1      0.000000\n",
      "2      0.000000\n",
      "3      0.005858\n",
      "4      0.000000\n",
      "         ...   \n",
      "939    0.018872\n",
      "940    0.004042\n",
      "941    0.013289\n",
      "942    0.020592\n",
      "943    0.026742\n",
      "Length: 944, dtype: float64\n"
     ]
    }
   ],
   "source": [
    "high_income200_norm_list = df3[\"HH_income_200k_more\"]/df3[\"Total_Population\"]\n",
    "print(high_income200_norm_list)"
   ]
  },
  {
   "cell_type": "markdown",
   "metadata": {
    "id": "IFf7kxu7_YHa"
   },
   "source": [
    "### The following code assigns the x-value for the plots."
   ]
  },
  {
   "cell_type": "code",
   "execution_count": 43,
   "metadata": {
    "id": "oeHEH7Fm_YHb"
   },
   "outputs": [],
   "source": [
    "x=high_income200_norm_list\n",
    "\n"
   ]
  },
  {
   "cell_type": "markdown",
   "metadata": {
    "id": "DDRFUqsI_YHf"
   },
   "source": [
    "### The following code assigns the y-value for the plots."
   ]
  },
  {
   "cell_type": "code",
   "execution_count": 44,
   "metadata": {
    "id": "axAp0XHn_YHg"
   },
   "outputs": [],
   "source": [
    "y= death_norm_list\n"
   ]
  },
  {
   "cell_type": "markdown",
   "metadata": {
    "id": "y4Q8lw2N_YHj"
   },
   "source": [
    "### The following code forces the two lists into arrays."
   ]
  },
  {
   "cell_type": "code",
   "execution_count": 45,
   "metadata": {
    "id": "GQ3XdJpD_YHj"
   },
   "outputs": [],
   "source": [
    "d_norm = np.array(death_norm_list)\n",
    "high200_norm = np.array(high_income200_norm_list)\n"
   ]
  },
  {
   "cell_type": "markdown",
   "metadata": {
    "id": "gVsnOPIC_YHm"
   },
   "source": [
    "### The following code cells shape the new arrays."
   ]
  },
  {
   "cell_type": "code",
   "execution_count": 46,
   "metadata": {
    "colab": {
     "base_uri": "https://localhost:8080/"
    },
    "id": "pC0iNkVo_YHn",
    "outputId": "39cbacd3-3c9c-4c67-9f4f-8152b16f81b7"
   },
   "outputs": [
    {
     "data": {
      "text/plain": [
       "(944,)"
      ]
     },
     "execution_count": 46,
     "metadata": {},
     "output_type": "execute_result"
    }
   ],
   "source": [
    "np.shape(d_norm)"
   ]
  },
  {
   "cell_type": "code",
   "execution_count": 47,
   "metadata": {
    "colab": {
     "base_uri": "https://localhost:8080/"
    },
    "id": "YaeBd0LY_YHq",
    "outputId": "d8a3cc45-155e-41a4-cb86-d5d5e149e3da"
   },
   "outputs": [
    {
     "data": {
      "text/plain": [
       "(944,)"
      ]
     },
     "execution_count": 47,
     "metadata": {},
     "output_type": "execute_result"
    }
   ],
   "source": [
    "np.shape(high200_norm)"
   ]
  },
  {
   "cell_type": "markdown",
   "metadata": {
    "id": "haKAky3G_YHs"
   },
   "source": [
    "### The following code correlates the arrays."
   ]
  },
  {
   "cell_type": "code",
   "execution_count": 48,
   "metadata": {
    "colab": {
     "base_uri": "https://localhost:8080/"
    },
    "id": "hQUCHKqX_YHs",
    "outputId": "0a3bdbfe-0d65-44b2-c732-343abe30e428"
   },
   "outputs": [
    {
     "data": {
      "text/plain": [
       "array([2.10473818])"
      ]
     },
     "execution_count": 48,
     "metadata": {},
     "output_type": "execute_result"
    }
   ],
   "source": [
    "np.correlate(d_norm,high200_norm)"
   ]
  },
  {
   "cell_type": "markdown",
   "metadata": {
    "id": "9KUKOJhQ_YHu"
   },
   "source": [
    "### The following code finds the correlation coefficients of the arrays."
   ]
  },
  {
   "cell_type": "code",
   "execution_count": 49,
   "metadata": {
    "colab": {
     "base_uri": "https://localhost:8080/"
    },
    "id": "f2kb4Pa1_YHv",
    "outputId": "5a579474-c345-48d3-fc0c-0a9667dc27e2"
   },
   "outputs": [
    {
     "name": "stdout",
     "output_type": "stream",
     "text": [
      "[[1.         0.13966499]\n",
      " [0.13966499 1.        ]]\n"
     ]
    }
   ],
   "source": [
    "corrcoef= np.corrcoef(d_norm,high200_norm)\n",
    "print(corrcoef)"
   ]
  },
  {
   "cell_type": "markdown",
   "metadata": {
    "id": "q5mJrFip_YHx"
   },
   "source": [
    "### The following code performs a linear regression, displays the slope, intercept, and standard error. "
   ]
  },
  {
   "cell_type": "code",
   "execution_count": 50,
   "metadata": {
    "colab": {
     "base_uri": "https://localhost:8080/"
    },
    "id": "oJ1vtvsj_YHx",
    "outputId": "6d275964-9d48-4499-b300-86add0a9350b"
   },
   "outputs": [
    {
     "name": "stdout",
     "output_type": "stream",
     "text": [
      "0.342930398904297\n"
     ]
    }
   ],
   "source": [
    "result = scipy.stats.linregress(x, y)\n",
    "print(result.slope)"
   ]
  },
  {
   "cell_type": "code",
   "execution_count": 51,
   "metadata": {
    "colab": {
     "base_uri": "https://localhost:8080/"
    },
    "id": "s8TsWoSQ_YH0",
    "outputId": "5d36c4b0-2e3a-4151-d5ae-73e86c35d46c"
   },
   "outputs": [
    {
     "name": "stdout",
     "output_type": "stream",
     "text": [
      "0.06913276068662638\n"
     ]
    }
   ],
   "source": [
    "print(result.intercept)"
   ]
  },
  {
   "cell_type": "code",
   "execution_count": 52,
   "metadata": {
    "colab": {
     "base_uri": "https://localhost:8080/"
    },
    "id": "HUpNgJ1o_YH1",
    "outputId": "9a40b87f-cfbb-4f1a-e215-72bbb6b73b44"
   },
   "outputs": [
    {
     "name": "stdout",
     "output_type": "stream",
     "text": [
      "0.07921645102909487\n"
     ]
    }
   ],
   "source": [
    "print(result.stderr)"
   ]
  },
  {
   "cell_type": "markdown",
   "metadata": {
    "id": "pjI2ZyMM_YH4"
   },
   "source": [
    "### The following code creates a scatter plot from the arrays."
   ]
  },
  {
   "cell_type": "code",
   "execution_count": 53,
   "metadata": {
    "colab": {
     "base_uri": "https://localhost:8080/",
     "height": 295
    },
    "id": "Pt1U4OxP_YH4",
    "outputId": "eb887675-4544-4c4b-e4dd-ffa2c78b8ee3",
    "scrolled": true
   },
   "outputs": [
    {
     "data": {
      "image/png": "[encoded data removed]",
      "text/plain": [
       "<Figure size 432x288 with 1 Axes>"
      ]
     },
     "metadata": {
      "needs_background": "light"
     },
     "output_type": "display_data"
    }
   ],
   "source": [
    "plt.clf()\n",
    "plt.plot(high_income200_norm_list,death_norm_list,\"o\",markersize=1)\n",
    "# Set the x axis label of the current axis.\n",
    "plt.xlabel('Income per household/population')\n",
    "# Set the y axis label of the current axis.\n",
    "plt.ylabel('Death/population')\n",
    "#plt.legend()\n",
    "# Set a title \n",
    "plt.title('Deaths per HH income 200K and above')\n",
    "# Display the figure.\n",
    "plt.show()"
   ]
  },
  {
   "cell_type": "code",
   "execution_count": 56,
   "metadata": {
    "id": "XKZOaLG9QLJA"
   },
   "outputs": [
    {
     "data": {
      "image/png": "[encoded data removed]",
      "text/plain": [
       "<Figure size 432x288 with 1 Axes>"
      ]
     },
     "metadata": {
      "needs_background": "light"
     },
     "output_type": "display_data"
    }
   ],
   "source": [
    "#https://matplotlib.org/3.1.1/api/_as_gen/matplotlib.pyplot.errorbar.html\n",
    "x=[17.8,55,135,250]\n",
    "xerr0=[17.8,20,62.5,50]\n",
    "y=[0.38340791, 0.00431208, -0.14486735, 0.13966499]\n",
    "avg_population=np.array([606.1186441, 669.4745763,688.5434322,135.4173729])  #average household count of each earning bracket\n",
    "yerr0=abs(y*np.sqrt(avg_population)/(avg_population))  # y*error_percentatage, error_percentatage=sqrt(n)/n #percent uncertainty\n",
    "plt.clf()\n",
    "plt.errorbar(x,y,xerr=xerr0,yerr=yerr0,marker='o',markersize=5, label=\"1\")\n",
    "#plt.plot(X, y2,label=\"2\")\n",
    "# Set the x axis label of the current axis.\n",
    "plt.xlabel('Income Bracket')\n",
    "# Set the y axis label of the current axis.\n",
    "plt.ylabel('Correlation Coefficient')\n",
    "#plt.legend()\n",
    "# Set a title \n",
    "plt.title('Correlation of Income Bracket and Death Rate')\n",
    "# Display the figure.\n",
    "plt.show()"
   ]
  },
  {
   "cell_type": "code",
   "execution_count": 55,
   "metadata": {},
   "outputs": [
    {
     "name": "stdout",
     "output_type": "stream",
     "text": [
      "[0.01557336 0.00016666 0.00552084 0.01200191]\n"
     ]
    }
   ],
   "source": [
    "print(yerr0)"
   ]
  },
  {
   "cell_type": "code",
   "execution_count": null,
   "metadata": {},
   "outputs": [],
   "source": []
  }
 ],
 "metadata": {
  "colab": {
   "collapsed_sections": [],
   "name": "Income_Cases2.ipynb",
   "provenance": []
  },
  "kernelspec": {
   "display_name": "Python 3",
   "language": "python",
   "name": "python3"
  },
  "language_info": {
   "codemirror_mode": {
    "name": "ipython",
    "version": 3
   },
   "file_extension": ".py",
   "mimetype": "text/x-python",
   "name": "python",
   "nbconvert_exporter": "python",
   "pygments_lexer": "ipython3",
   "version": "3.8.3"
  }
 },
 "nbformat": 4,
 "nbformat_minor": 1
}
